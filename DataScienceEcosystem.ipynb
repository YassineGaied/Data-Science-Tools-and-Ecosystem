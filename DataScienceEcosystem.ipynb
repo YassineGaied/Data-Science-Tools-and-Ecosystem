{
 "cells": [
  {
   "cell_type": "markdown",
   "id": "870a5738-17bd-4b3b-a6cc-fdc195b0a2ff",
   "metadata": {},
   "source": [
    "# Data Science Tools and Ecosystem"
   ]
  },
  {
   "cell_type": "markdown",
   "id": "ce6b5024-c82f-4949-9aa5-e6bc457c9c24",
   "metadata": {},
   "source": [
    "In this notebook, Data Science Tools and Ecosystem are summarized."
   ]
  },
  {
   "cell_type": "markdown",
   "id": "ae313ecc-3ff1-42ed-b748-ac591942a3b2",
   "metadata": {},
   "source": [
    "**Objectives:**<br>\n",
    "* List popular languages for Data Science\n",
    "+ List some of the most commonly used Data Science libraries\n",
    "- Give exemples of a few arithmetic expressions in Python"
   ]
  },
  {
   "cell_type": "markdown",
   "id": "102dd7e1-331d-43a5-b854-0652ca17305e",
   "metadata": {},
   "source": [
    "Some of the popular languages that Data Scientists use are:\n",
    "\n",
    "1. Python - Python is the most widely used language for data science. It has a vast ecosystem of libraries and tools that make it easy to manipulate, analyze, and visualize data. Some of the popular libraries for data science in Python include NumPy, Pandas, Matplotlib, and Scikit-learn.\n",
    "\n",
    "2. R - R is another popular language for data science. It is specifically designed for statistical computing and has a vast library of packages for data manipulation, analysis, and visualization. Some of the popular packages for data science in R include ggplot2, dplyr, and tidyr.\n",
    "\n",
    "3. SQL - Structured Query Language (SQL) is a domain-specific language used to manage relational databases. It is commonly used in data science to extract, transform, and load (ETL) data from databases.\n",
    "\n",
    "4. Java - Java is a general-purpose programming language that is widely used in enterprise applications, including big data processing. Some of the popular Java-based tools for data science include Hadoop, Spark, and Flink.\n",
    "\n",
    "5. Julia - Julia is a high-performance programming language designed specifically for numerical and scientific computing. It is relatively new, but it is gaining popularity in the data science community due to its speed and ease of use.\n",
    "\n",
    "6. MATLAB - MATLAB is a proprietary programming language and development environment that is commonly used in scientific computing and data analysis. It has a vast library of functions for matrix manipulation, signal processing, and data visualization.\n",
    "\n",
    "7. Scala - Scala is a general-purpose programming language that runs on the Java Virtual Machine (JVM). It is commonly used in big data processing frameworks like Apache Spark.\n",
    "\n",
    "8. SAS - SAS is a proprietary software suite for data analysis and statistical modeling. It has been widely used in the business world for many years and is still popular in some industries."
   ]
  },
  {
   "cell_type": "markdown",
   "id": "63958797-a12e-4da3-9ecf-2494f9f9ab01",
   "metadata": {},
   "source": [
    "Some of the commonly used libraries used by Data Scientists include:\n",
    "\n",
    "1. NumPy - NumPy is a Python library used for scientific computing. It provides support for arrays and matrices, and also includes functions for numerical operations.\n",
    "\n",
    "2. Pandas - Pandas is a Python library used for data manipulation and analysis. It provides support for data structures like data frames and series, and includes functions for filtering, sorting, and grouping data.\n",
    "\n",
    "3. Matplotlib - Matplotlib is a Python library used for data visualization. It provides support for creating line plots, scatter plots, bar plots, histograms, and other types of charts.\n",
    "\n",
    "4. Scikit-learn - Scikit-learn is a Python library used for machine learning. It includes functions for regression, classification, clustering, and other types of machine learning algorithms.\n",
    "\n",
    "5. TensorFlow - TensorFlow is an open-source software library used for machine learning and artificial intelligence. It provides support for building and training neural networks, and includes tools for data preprocessing, model evaluation, and deployment.\n",
    "\n",
    "6. Keras - Keras is a high-level API for building and training deep learning models. It provides support for building neural networks with different architectures, and includes functions for data preprocessing, model evaluation, and deployment.\n",
    "\n",
    "7. PyTorch - PyTorch is an open-source machine learning library used for building and training deep learning models. It provides support for building neural networks with dynamic computation graphs, and includes tools for data preprocessing, model evaluation, and deployment.\n",
    "\n",
    "8. Seaborn - Seaborn is a Python library used for statistical data visualization. It provides support for creating heatmaps, pair plots, and other types of visualizations for exploring relationships between variables."
   ]
  },
  {
   "cell_type": "markdown",
   "id": "8b1e5b54-d2fc-4460-b0ee-d1f81742658a",
   "metadata": {},
   "source": [
    "| Data Science Tools |\n",
    "|---|\n",
    "| Jupyter Notebook |\n",
    "| R Studio |\n",
    "| Spyder IDE |"
   ]
  },
  {
   "cell_type": "markdown",
   "id": "c616eeb5-410f-4691-a2a2-0c30ba0994b8",
   "metadata": {},
   "source": [
    "### Below are a few examples of evaluating arithmetic expressions in Python :"
   ]
  },
  {
   "cell_type": "code",
   "execution_count": 1,
   "id": "fc8d6297-f9ea-441b-ae16-4a631a7199bb",
   "metadata": {},
   "outputs": [
    {
     "data": {
      "text/plain": [
       "17"
      ]
     },
     "execution_count": 1,
     "metadata": {},
     "output_type": "execute_result"
    }
   ],
   "source": [
    "# This a simple arithmetic expression to mutiply then add integers\n",
    "(3*4)+5"
   ]
  },
  {
   "cell_type": "code",
   "execution_count": 3,
   "id": "66e4828f-423f-499e-b5db-1891e5f88143",
   "metadata": {},
   "outputs": [
    {
     "data": {
      "text/plain": [
       "3.3333333333333335"
      ]
     },
     "execution_count": 3,
     "metadata": {},
     "output_type": "execute_result"
    }
   ],
   "source": [
    "# This will convert 200 minutes to hours by diving by 60\n",
    "200 / 60"
   ]
  },
  {
   "cell_type": "markdown",
   "id": "01a67be4-64e7-4055-b7a6-cc9346ad0474",
   "metadata": {},
   "source": [
    "## Author\n",
    "\n",
    "Yassine Gaied"
   ]
  }
 ],
 "metadata": {
  "kernelspec": {
   "display_name": "Python",
   "language": "python",
   "name": "conda-env-python-py"
  },
  "language_info": {
   "codemirror_mode": {
    "name": "ipython",
    "version": 3
   },
   "file_extension": ".py",
   "mimetype": "text/x-python",
   "name": "python",
   "nbconvert_exporter": "python",
   "pygments_lexer": "ipython3",
   "version": "3.7.12"
  }
 },
 "nbformat": 4,
 "nbformat_minor": 5
}
